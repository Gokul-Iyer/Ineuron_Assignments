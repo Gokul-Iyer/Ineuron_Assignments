{
 "cells": [
  {
   "cell_type": "code",
   "execution_count": 1,
   "id": "81046364",
   "metadata": {},
   "outputs": [],
   "source": [
    "# 1.Write a Python program to print \"Hello Python\"?"
   ]
  },
  {
   "cell_type": "code",
   "execution_count": 2,
   "id": "c2239a2c",
   "metadata": {},
   "outputs": [
    {
     "name": "stdout",
     "output_type": "stream",
     "text": [
      "Hello Python\n"
     ]
    }
   ],
   "source": [
    "print(\"Hello Python\")"
   ]
  },
  {
   "cell_type": "code",
   "execution_count": 3,
   "id": "d8dbb640",
   "metadata": {},
   "outputs": [],
   "source": [
    "# 2.Write a Python program to do arithmetical operations addition and division.?"
   ]
  },
  {
   "cell_type": "code",
   "execution_count": 4,
   "id": "836eadaf",
   "metadata": {},
   "outputs": [
    {
     "name": "stdout",
     "output_type": "stream",
     "text": [
      "Addition is  30\n",
      "Division is  2.0\n"
     ]
    }
   ],
   "source": [
    "a=10\n",
    "b=20\n",
    "c=a+b\n",
    "d=b/a\n",
    "print(\"Addition is \",c)\n",
    "print(\"Division is \",d)"
   ]
  },
  {
   "cell_type": "code",
   "execution_count": 5,
   "id": "2c9d6e8f",
   "metadata": {},
   "outputs": [],
   "source": [
    "# 3.Write a Python program to find the area of a triangle?"
   ]
  },
  {
   "cell_type": "code",
   "execution_count": 6,
   "id": "efc5432f",
   "metadata": {},
   "outputs": [
    {
     "name": "stdout",
     "output_type": "stream",
     "text": [
      "The area of the triangle is  14.696938456699069\n"
     ]
    }
   ],
   "source": [
    "a = 5\n",
    "b = 6\n",
    "c = 7\n",
    "s = (a + b + c) / 2\n",
    "area = (s*(s-a)*(s-b)*(s-c)) ** 0.5 # ** is used for squareroot\n",
    "print('The area of the triangle is ', area)"
   ]
  },
  {
   "cell_type": "code",
   "execution_count": 7,
   "id": "dc0689e9",
   "metadata": {},
   "outputs": [],
   "source": [
    "# 4.Write a Python program to swap two variables?"
   ]
  },
  {
   "cell_type": "code",
   "execution_count": 8,
   "id": "7e65bf64",
   "metadata": {},
   "outputs": [
    {
     "name": "stdout",
     "output_type": "stream",
     "text": [
      "Variables before swap a =  5 , b =  10\n",
      "Variables after swap a =  10 , b =  5\n"
     ]
    }
   ],
   "source": [
    "a=5\n",
    "b=10\n",
    "print(\"Variables before swap a = \",a, \", b = \",b)\n",
    "c=a\n",
    "a=b\n",
    "b=c\n",
    "print(\"Variables after swap a = \",a, \", b = \",b)"
   ]
  },
  {
   "cell_type": "code",
   "execution_count": 9,
   "id": "75aee6ad",
   "metadata": {},
   "outputs": [],
   "source": [
    "# 5.Write a Python program to generate a random number?"
   ]
  },
  {
   "cell_type": "code",
   "execution_count": 10,
   "id": "b0cc8128",
   "metadata": {},
   "outputs": [
    {
     "name": "stdout",
     "output_type": "stream",
     "text": [
      "random number 41\n"
     ]
    }
   ],
   "source": [
    "import random\n",
    "a=random.randint(0,50)\n",
    "print(\"random number\",a)"
   ]
  }
 ],
 "metadata": {
  "kernelspec": {
   "display_name": "Python 3 (ipykernel)",
   "language": "python",
   "name": "python3"
  },
  "language_info": {
   "codemirror_mode": {
    "name": "ipython",
    "version": 3
   },
   "file_extension": ".py",
   "mimetype": "text/x-python",
   "name": "python",
   "nbconvert_exporter": "python",
   "pygments_lexer": "ipython3",
   "version": "3.9.7"
  }
 },
 "nbformat": 4,
 "nbformat_minor": 5
}
