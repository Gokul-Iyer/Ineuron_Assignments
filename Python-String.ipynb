{
 "cells": [
  {
   "cell_type": "code",
   "execution_count": 1,
   "id": "6e02f8c2",
   "metadata": {},
   "outputs": [],
   "source": [
    "s = \"this is My First Python programming class and i am learNING python string and its function\""
   ]
  },
  {
   "cell_type": "markdown",
   "id": "b871dbc0",
   "metadata": {},
   "source": [
    "1 . Try to extract data from index one to index 300 with a jump of 3 "
   ]
  },
  {
   "cell_type": "code",
   "execution_count": 2,
   "id": "0a7dac22",
   "metadata": {},
   "outputs": [
    {
     "data": {
      "text/plain": [
       "'h   r tnrrmglsnimeNGyosi dtfco'"
      ]
     },
     "execution_count": 2,
     "metadata": {},
     "output_type": "execute_result"
    }
   ],
   "source": [
    "s[1:300:3]"
   ]
  },
  {
   "cell_type": "markdown",
   "id": "0097f1b1",
   "metadata": {},
   "source": [
    "2. Try to reverse a string without using reverse function "
   ]
  },
  {
   "cell_type": "code",
   "execution_count": 3,
   "id": "57083ef8",
   "metadata": {},
   "outputs": [
    {
     "data": {
      "text/plain": [
       "'noitcnuf sti dna gnirts nohtyp GNINrael ma i dna ssalc gnimmargorp nohtyP tsriF yM si siht'"
      ]
     },
     "execution_count": 3,
     "metadata": {},
     "output_type": "execute_result"
    }
   ],
   "source": [
    "s[::-1]"
   ]
  },
  {
   "cell_type": "markdown",
   "id": "3381f277",
   "metadata": {},
   "source": [
    "3. Try to split a string after conversion of entire string in uppercase"
   ]
  },
  {
   "cell_type": "code",
   "execution_count": 7,
   "id": "c606c81f",
   "metadata": {},
   "outputs": [
    {
     "data": {
      "text/plain": [
       "['THIS',\n",
       " 'IS',\n",
       " 'MY',\n",
       " 'FIRST',\n",
       " 'PYTHON',\n",
       " 'PROGRAMMING',\n",
       " 'CLASS',\n",
       " 'AND',\n",
       " 'I',\n",
       " 'AM',\n",
       " 'LEARNING',\n",
       " 'PYTHON',\n",
       " 'STRING',\n",
       " 'AND',\n",
       " 'ITS',\n",
       " 'FUNCTION']"
      ]
     },
     "execution_count": 7,
     "metadata": {},
     "output_type": "execute_result"
    }
   ],
   "source": [
    "s1=s.upper()\n",
    "s1.split(\" \")"
   ]
  },
  {
   "cell_type": "markdown",
   "id": "6c8ee72b",
   "metadata": {},
   "source": [
    "4. try to convert the whole string into lower case "
   ]
  },
  {
   "cell_type": "code",
   "execution_count": 8,
   "id": "df249269",
   "metadata": {},
   "outputs": [
    {
     "data": {
      "text/plain": [
       "'this is my first python programming class and i am learning python string and its function'"
      ]
     },
     "execution_count": 8,
     "metadata": {},
     "output_type": "execute_result"
    }
   ],
   "source": [
    "s.lower()"
   ]
  },
  {
   "cell_type": "markdown",
   "id": "92ee36e8",
   "metadata": {},
   "source": [
    "5 . Try to capitalize the whole string "
   ]
  },
  {
   "cell_type": "code",
   "execution_count": 9,
   "id": "ea9a7944",
   "metadata": {},
   "outputs": [
    {
     "data": {
      "text/plain": [
       "'This is my first python programming class and i am learning python string and its function'"
      ]
     },
     "execution_count": 9,
     "metadata": {},
     "output_type": "execute_result"
    }
   ],
   "source": [
    "s.capitalize()"
   ]
  },
  {
   "cell_type": "code",
   "execution_count": 10,
   "id": "5d260648",
   "metadata": {},
   "outputs": [
    {
     "data": {
      "text/plain": [
       "'This Is My First Python Programming Class And I Am Learning Python String And Its Function'"
      ]
     },
     "execution_count": 10,
     "metadata": {},
     "output_type": "execute_result"
    }
   ],
   "source": [
    "s.title()"
   ]
  },
  {
   "cell_type": "markdown",
   "id": "06f73f3d",
   "metadata": {},
   "source": [
    "6 . Write a diference between isalnum() and isalpha()"
   ]
  },
  {
   "cell_type": "markdown",
   "id": "4ba8a7f3",
   "metadata": {},
   "source": [
    "isalnum() compare the string for alphabets or numeric\n",
    "isapha() compare the string for only alphabets without space"
   ]
  },
  {
   "cell_type": "code",
   "execution_count": 14,
   "id": "9c9e17b1",
   "metadata": {},
   "outputs": [
    {
     "data": {
      "text/plain": [
       "True"
      ]
     },
     "execution_count": 14,
     "metadata": {},
     "output_type": "execute_result"
    }
   ],
   "source": [
    "s2=\"sadf12\"\n",
    "s2.isalnum()"
   ]
  },
  {
   "cell_type": "code",
   "execution_count": 15,
   "id": "80e79661",
   "metadata": {},
   "outputs": [
    {
     "data": {
      "text/plain": [
       "False"
      ]
     },
     "execution_count": 15,
     "metadata": {},
     "output_type": "execute_result"
    }
   ],
   "source": [
    "s2.isalpha()"
   ]
  },
  {
   "cell_type": "code",
   "execution_count": 17,
   "id": "0166f99b",
   "metadata": {},
   "outputs": [
    {
     "data": {
      "text/plain": [
       "True"
      ]
     },
     "execution_count": 17,
     "metadata": {},
     "output_type": "execute_result"
    }
   ],
   "source": [
    "s3=\"asdasf\"\n",
    "s3.isalpha()"
   ]
  },
  {
   "cell_type": "code",
   "execution_count": 18,
   "id": "6091b36b",
   "metadata": {},
   "outputs": [
    {
     "data": {
      "text/plain": [
       "False"
      ]
     },
     "execution_count": 18,
     "metadata": {},
     "output_type": "execute_result"
    }
   ],
   "source": [
    "s.isalpha()"
   ]
  },
  {
   "cell_type": "markdown",
   "id": "b1ddf7bd",
   "metadata": {},
   "source": [
    "7. Try to give an example of expand tab"
   ]
  },
  {
   "cell_type": "markdown",
   "id": "0489b507",
   "metadata": {},
   "source": [
    "expand tab expands \\t with tab"
   ]
  },
  {
   "cell_type": "code",
   "execution_count": 19,
   "id": "f2205abe",
   "metadata": {},
   "outputs": [],
   "source": [
    "s4=\"Gokul\\tIyer\""
   ]
  },
  {
   "cell_type": "code",
   "execution_count": 20,
   "id": "976a4c29",
   "metadata": {},
   "outputs": [
    {
     "data": {
      "text/plain": [
       "'Gokul   Iyer'"
      ]
     },
     "execution_count": 20,
     "metadata": {},
     "output_type": "execute_result"
    }
   ],
   "source": [
    "s4.expandtabs()"
   ]
  },
  {
   "cell_type": "markdown",
   "id": "e167ccd7",
   "metadata": {},
   "source": [
    "8 . Give an example of strip , lstrip and rstrip "
   ]
  },
  {
   "cell_type": "markdown",
   "id": "72c0d978",
   "metadata": {},
   "source": [
    "strip removes before and after spaces from string\n",
    "lstrip removes before space and rstrip removes after spaces"
   ]
  },
  {
   "cell_type": "code",
   "execution_count": 22,
   "id": "4ce059a6",
   "metadata": {},
   "outputs": [
    {
     "data": {
      "text/plain": [
       "'Gokul   Iyer'"
      ]
     },
     "execution_count": 22,
     "metadata": {},
     "output_type": "execute_result"
    }
   ],
   "source": [
    "s5= \"   Gokul   Iyer   \"\n",
    "s5.strip()"
   ]
  },
  {
   "cell_type": "code",
   "execution_count": 23,
   "id": "ed26fd46",
   "metadata": {},
   "outputs": [
    {
     "data": {
      "text/plain": [
       "'Gokul   Iyer   '"
      ]
     },
     "execution_count": 23,
     "metadata": {},
     "output_type": "execute_result"
    }
   ],
   "source": [
    "s5.lstrip()"
   ]
  },
  {
   "cell_type": "code",
   "execution_count": 24,
   "id": "787fbd04",
   "metadata": {},
   "outputs": [
    {
     "data": {
      "text/plain": [
       "'   Gokul   Iyer'"
      ]
     },
     "execution_count": 24,
     "metadata": {},
     "output_type": "execute_result"
    }
   ],
   "source": [
    "s5.rstrip()"
   ]
  },
  {
   "cell_type": "markdown",
   "id": "f1b311d3",
   "metadata": {},
   "source": [
    "9.  Replace a string charecter by another charector by taking your own example "
   ]
  },
  {
   "cell_type": "code",
   "execution_count": 28,
   "id": "6d048a44",
   "metadata": {},
   "outputs": [],
   "source": [
    "s6=(\"Status: Pending\")"
   ]
  },
  {
   "cell_type": "code",
   "execution_count": 29,
   "id": "0a9a1cb9",
   "metadata": {},
   "outputs": [
    {
     "data": {
      "text/plain": [
       "'Status: Completed'"
      ]
     },
     "execution_count": 29,
     "metadata": {},
     "output_type": "execute_result"
    }
   ],
   "source": [
    "s6.replace(\"Pending\",\"Completed\")"
   ]
  },
  {
   "cell_type": "markdown",
   "id": "1352b9a5",
   "metadata": {},
   "source": [
    "replace function is used to replace characters in python"
   ]
  },
  {
   "cell_type": "markdown",
   "id": "9aacaf66",
   "metadata": {},
   "source": [
    "10 . Try  to give a defination of string center function with and exmple "
   ]
  },
  {
   "cell_type": "markdown",
   "id": "50b6f4a4",
   "metadata": {},
   "source": [
    "String center fuction reserves the space as mentioned  with the specified character."
   ]
  },
  {
   "cell_type": "code",
   "execution_count": 26,
   "id": "b714b7c1",
   "metadata": {},
   "outputs": [
    {
     "data": {
      "text/plain": [
       "'#####GokulIyer######'"
      ]
     },
     "execution_count": 26,
     "metadata": {},
     "output_type": "execute_result"
    }
   ],
   "source": [
    "s6=\"GokulIyer\"\n",
    "s6.center(20,\"#\")"
   ]
  },
  {
   "cell_type": "markdown",
   "id": "f0928cdd",
   "metadata": {},
   "source": [
    "11 . Write your own definition of compiler and interpretor without copy paste form internet in your own language"
   ]
  },
  {
   "cell_type": "markdown",
   "id": "5ea948e1",
   "metadata": {},
   "source": [
    "Compiler is translation of entire code in machine language."
   ]
  },
  {
   "cell_type": "markdown",
   "id": "073103cd",
   "metadata": {},
   "source": [
    "Interpretor is line by line translation of code in machine language."
   ]
  },
  {
   "cell_type": "markdown",
   "id": "2ca018f8",
   "metadata": {},
   "source": [
    "12 . Python is a interpreted of compiled language give a clear ans with your understanding "
   ]
  },
  {
   "cell_type": "markdown",
   "id": "52a1f8e8",
   "metadata": {},
   "source": [
    "Python first compiles each line then interprets the result."
   ]
  },
  {
   "cell_type": "markdown",
   "id": "61db11e8",
   "metadata": {},
   "source": [
    "13 . Try to write a usecase of python with your understanding ."
   ]
  },
  {
   "cell_type": "markdown",
   "id": "f431063c",
   "metadata": {},
   "source": [
    "Python is used for creating applications, develop games, web applications,etc"
   ]
  }
 ],
 "metadata": {
  "kernelspec": {
   "display_name": "Python 3 (ipykernel)",
   "language": "python",
   "name": "python3"
  },
  "language_info": {
   "codemirror_mode": {
    "name": "ipython",
    "version": 3
   },
   "file_extension": ".py",
   "mimetype": "text/x-python",
   "name": "python",
   "nbconvert_exporter": "python",
   "pygments_lexer": "ipython3",
   "version": "3.9.7"
  }
 },
 "nbformat": 4,
 "nbformat_minor": 5
}
