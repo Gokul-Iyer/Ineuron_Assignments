{
 "cells": [
  {
   "cell_type": "code",
   "execution_count": 1,
   "id": "0f18fd62",
   "metadata": {},
   "outputs": [],
   "source": [
    "s = \"this is My First Python programming class and i am learNING python string and its function\""
   ]
  },
  {
   "cell_type": "markdown",
   "id": "b1a809b5",
   "metadata": {},
   "source": [
    "1 . Try to extract data from index one to index 300 with a jump of 3 "
   ]
  },
  {
   "cell_type": "code",
   "execution_count": 2,
   "id": "8e419e3d",
   "metadata": {},
   "outputs": [
    {
     "data": {
      "text/plain": [
       "'h   r tnrrmglsnimeNGyosi dtfco'"
      ]
     },
     "execution_count": 2,
     "metadata": {},
     "output_type": "execute_result"
    }
   ],
   "source": [
    "s[1:300:3]"
   ]
  },
  {
   "cell_type": "markdown",
   "id": "4840c325",
   "metadata": {},
   "source": [
    "2. Try to reverse a string without using reverse function "
   ]
  },
  {
   "cell_type": "code",
   "execution_count": 3,
   "id": "49454beb",
   "metadata": {},
   "outputs": [
    {
     "data": {
      "text/plain": [
       "'noitcnuf sti dna gnirts nohtyp GNINrael ma i dna ssalc gnimmargorp nohtyP tsriF yM si siht'"
      ]
     },
     "execution_count": 3,
     "metadata": {},
     "output_type": "execute_result"
    }
   ],
   "source": [
    "s[::-1]"
   ]
  },
  {
   "cell_type": "markdown",
   "id": "e25bc229",
   "metadata": {},
   "source": [
    "3. Try to split a string after conversion of entire string in uppercase"
   ]
  },
  {
   "cell_type": "code",
   "execution_count": 7,
   "id": "00c44348",
   "metadata": {},
   "outputs": [
    {
     "data": {
      "text/plain": [
       "['THIS',\n",
       " 'IS',\n",
       " 'MY',\n",
       " 'FIRST',\n",
       " 'PYTHON',\n",
       " 'PROGRAMMING',\n",
       " 'CLASS',\n",
       " 'AND',\n",
       " 'I',\n",
       " 'AM',\n",
       " 'LEARNING',\n",
       " 'PYTHON',\n",
       " 'STRING',\n",
       " 'AND',\n",
       " 'ITS',\n",
       " 'FUNCTION']"
      ]
     },
     "execution_count": 7,
     "metadata": {},
     "output_type": "execute_result"
    }
   ],
   "source": [
    "s1=s.upper()\n",
    "s1.split(\" \")"
   ]
  },
  {
   "cell_type": "markdown",
   "id": "890c9a07",
   "metadata": {},
   "source": [
    "4. try to convert the whole string into lower case "
   ]
  },
  {
   "cell_type": "code",
   "execution_count": 8,
   "id": "3b4c7653",
   "metadata": {},
   "outputs": [
    {
     "data": {
      "text/plain": [
       "'this is my first python programming class and i am learning python string and its function'"
      ]
     },
     "execution_count": 8,
     "metadata": {},
     "output_type": "execute_result"
    }
   ],
   "source": [
    "s.lower()"
   ]
  },
  {
   "cell_type": "markdown",
   "id": "5152a764",
   "metadata": {},
   "source": [
    "5 . Try to capitalize the whole string "
   ]
  },
  {
   "cell_type": "code",
   "execution_count": 9,
   "id": "21090676",
   "metadata": {},
   "outputs": [
    {
     "data": {
      "text/plain": [
       "'This is my first python programming class and i am learning python string and its function'"
      ]
     },
     "execution_count": 9,
     "metadata": {},
     "output_type": "execute_result"
    }
   ],
   "source": [
    "s.capitalize()"
   ]
  },
  {
   "cell_type": "code",
   "execution_count": 10,
   "id": "cc96d1be",
   "metadata": {},
   "outputs": [
    {
     "data": {
      "text/plain": [
       "'This Is My First Python Programming Class And I Am Learning Python String And Its Function'"
      ]
     },
     "execution_count": 10,
     "metadata": {},
     "output_type": "execute_result"
    }
   ],
   "source": [
    "s.title()"
   ]
  },
  {
   "cell_type": "markdown",
   "id": "ddce74f1",
   "metadata": {},
   "source": [
    "6 . Write a diference between isalnum() and isalpha()"
   ]
  },
  {
   "cell_type": "raw",
   "id": "b3a81bcc",
   "metadata": {},
   "source": [
    "isalnum() compare the string for alphabets or numeric\n",
    "isapha() compare the string for only alphabets without space"
   ]
  },
  {
   "cell_type": "code",
   "execution_count": 14,
   "id": "ebf47552",
   "metadata": {},
   "outputs": [
    {
     "data": {
      "text/plain": [
       "True"
      ]
     },
     "execution_count": 14,
     "metadata": {},
     "output_type": "execute_result"
    }
   ],
   "source": [
    "s2=\"sadf12\"\n",
    "s2.isalnum()"
   ]
  },
  {
   "cell_type": "code",
   "execution_count": 15,
   "id": "14af6842",
   "metadata": {},
   "outputs": [
    {
     "data": {
      "text/plain": [
       "False"
      ]
     },
     "execution_count": 15,
     "metadata": {},
     "output_type": "execute_result"
    }
   ],
   "source": [
    "s2.isalpha()"
   ]
  },
  {
   "cell_type": "code",
   "execution_count": 17,
   "id": "bd25667a",
   "metadata": {},
   "outputs": [
    {
     "data": {
      "text/plain": [
       "True"
      ]
     },
     "execution_count": 17,
     "metadata": {},
     "output_type": "execute_result"
    }
   ],
   "source": [
    "s3=\"asdasf\"\n",
    "s3.isalpha()"
   ]
  },
  {
   "cell_type": "code",
   "execution_count": 18,
   "id": "f651d556",
   "metadata": {},
   "outputs": [
    {
     "data": {
      "text/plain": [
       "False"
      ]
     },
     "execution_count": 18,
     "metadata": {},
     "output_type": "execute_result"
    }
   ],
   "source": [
    "s.isalpha()"
   ]
  },
  {
   "cell_type": "markdown",
   "id": "57fbae8e",
   "metadata": {},
   "source": [
    "7. Try to give an example of expand tab"
   ]
  },
  {
   "cell_type": "raw",
   "id": "c236b909",
   "metadata": {},
   "source": [
    "expand tab expands \\t with tab"
   ]
  },
  {
   "cell_type": "code",
   "execution_count": 19,
   "id": "dcd79639",
   "metadata": {},
   "outputs": [],
   "source": [
    "s4=\"Gokul\\tIyer\""
   ]
  },
  {
   "cell_type": "code",
   "execution_count": 20,
   "id": "9f6af20a",
   "metadata": {},
   "outputs": [
    {
     "data": {
      "text/plain": [
       "'Gokul   Iyer'"
      ]
     },
     "execution_count": 20,
     "metadata": {},
     "output_type": "execute_result"
    }
   ],
   "source": [
    "s4.expandtabs()"
   ]
  },
  {
   "cell_type": "markdown",
   "id": "dce16766",
   "metadata": {},
   "source": [
    "8 . Give an example of strip , lstrip and rstrip "
   ]
  },
  {
   "cell_type": "raw",
   "id": "3e15f27f",
   "metadata": {},
   "source": [
    "strip removes before and after spaces from string\n",
    "lstrip removes before space and rstrip removes after spaces"
   ]
  },
  {
   "cell_type": "code",
   "execution_count": 22,
   "id": "a036faac",
   "metadata": {},
   "outputs": [
    {
     "data": {
      "text/plain": [
       "'Gokul   Iyer'"
      ]
     },
     "execution_count": 22,
     "metadata": {},
     "output_type": "execute_result"
    }
   ],
   "source": [
    "s5= \"   Gokul   Iyer   \"\n",
    "s5.strip()"
   ]
  },
  {
   "cell_type": "code",
   "execution_count": 23,
   "id": "efaa1820",
   "metadata": {},
   "outputs": [
    {
     "data": {
      "text/plain": [
       "'Gokul   Iyer   '"
      ]
     },
     "execution_count": 23,
     "metadata": {},
     "output_type": "execute_result"
    }
   ],
   "source": [
    "s5.lstrip()"
   ]
  },
  {
   "cell_type": "code",
   "execution_count": 24,
   "id": "960d5a88",
   "metadata": {},
   "outputs": [
    {
     "data": {
      "text/plain": [
       "'   Gokul   Iyer'"
      ]
     },
     "execution_count": 24,
     "metadata": {},
     "output_type": "execute_result"
    }
   ],
   "source": [
    "s5.rstrip()"
   ]
  },
  {
   "cell_type": "markdown",
   "id": "da4aa643",
   "metadata": {},
   "source": [
    "9.  Replace a string charecter by another charector by taking your own example "
   ]
  },
  {
   "cell_type": "code",
   "execution_count": 28,
   "id": "85f0a161",
   "metadata": {},
   "outputs": [],
   "source": [
    "s6=(\"Status: Pending\")"
   ]
  },
  {
   "cell_type": "code",
   "execution_count": 29,
   "id": "128e9194",
   "metadata": {},
   "outputs": [
    {
     "data": {
      "text/plain": [
       "'Status: Completed'"
      ]
     },
     "execution_count": 29,
     "metadata": {},
     "output_type": "execute_result"
    }
   ],
   "source": [
    "s6.replace(\"Pending\",\"Completed\")"
   ]
  },
  {
   "cell_type": "raw",
   "id": "f896f226",
   "metadata": {},
   "source": [
    "replace function is used to replace characters in python"
   ]
  },
  {
   "cell_type": "markdown",
   "id": "2e2b78eb",
   "metadata": {},
   "source": [
    "10 . Try  to give a defination of string center function with and exmple "
   ]
  },
  {
   "cell_type": "raw",
   "id": "630a554b",
   "metadata": {},
   "source": [
    "String center fuction reserves the space as mentioned  with the specified character."
   ]
  },
  {
   "cell_type": "code",
   "execution_count": 26,
   "id": "7be9656a",
   "metadata": {},
   "outputs": [
    {
     "data": {
      "text/plain": [
       "'#####GokulIyer######'"
      ]
     },
     "execution_count": 26,
     "metadata": {},
     "output_type": "execute_result"
    }
   ],
   "source": [
    "s6=\"GokulIyer\"\n",
    "s6.center(20,\"#\")"
   ]
  },
  {
   "cell_type": "markdown",
   "id": "8d5e6d01",
   "metadata": {},
   "source": [
    "11 . Write your own definition of compiler and interpretor without copy paste form internet in your own language"
   ]
  },
  {
   "cell_type": "raw",
   "id": "968aff41",
   "metadata": {},
   "source": [
    "Compiler is translation of entire code in machine language."
   ]
  },
  {
   "cell_type": "raw",
   "id": "2cf748ae",
   "metadata": {},
   "source": [
    "Interpretor is line by line translation of code in machine language."
   ]
  },
  {
   "cell_type": "markdown",
   "id": "f1558f9b",
   "metadata": {},
   "source": [
    "12 . Python is a interpreted of compiled language give a clear ans with your understanding "
   ]
  },
  {
   "cell_type": "raw",
   "id": "c9b6724d",
   "metadata": {},
   "source": [
    "Python first compiles each line then interprets the result."
   ]
  },
  {
   "cell_type": "markdown",
   "id": "847cf62e",
   "metadata": {},
   "source": [
    "13 . Try to write a usecase of python with your understanding ."
   ]
  },
  {
   "cell_type": "raw",
   "id": "b577c7e6",
   "metadata": {},
   "source": [
    "Python is used for creating applications, develop games, web applications,etc"
   ]
  }
 ],
 "metadata": {
  "kernelspec": {
   "display_name": "Python 3 (ipykernel)",
   "language": "python",
   "name": "python3"
  },
  "language_info": {
   "codemirror_mode": {
    "name": "ipython",
    "version": 3
   },
   "file_extension": ".py",
   "mimetype": "text/x-python",
   "name": "python",
   "nbconvert_exporter": "python",
   "pygments_lexer": "ipython3",
   "version": "3.9.7"
  }
 },
 "nbformat": 4,
 "nbformat_minor": 5
}
