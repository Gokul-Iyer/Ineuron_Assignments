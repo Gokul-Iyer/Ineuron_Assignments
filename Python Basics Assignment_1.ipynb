{
 "cells": [
  {
   "cell_type": "raw",
   "id": "fe7a2e6f",
   "metadata": {},
   "source": [
    "1.In the below elements which of them are values or an expression? eg:- values can be\n",
    "integer or string and expressions will be mathematical operators.\n",
    "A- \n",
    "* expression\n",
    "'hello' values\n",
    "-87.8 values\n",
    "- expression\n",
    "/ expression\n",
    "+ expression\n",
    "6 values"
   ]
  },
  {
   "cell_type": "raw",
   "id": "fd968498",
   "metadata": {},
   "source": [
    "2. What is the difference between string and variable?\n",
    "\n",
    "Variable is any name assigned to any object/value. ex. a=10\n",
    "String is text stored in between quotes so that it is not executed. ex. \"Hello\""
   ]
  },
  {
   "cell_type": "raw",
   "id": "bb7803f9",
   "metadata": {},
   "source": [
    "3. Describe three different data types.\n",
    "\n",
    "Interger is number without decimal ex. 10\n",
    "Float is number with decimal ex. 10.0\n",
    "String is text ex. \"Text\"\n"
   ]
  },
  {
   "cell_type": "raw",
   "id": "1e4e83f4",
   "metadata": {},
   "source": [
    "4. What is an expression made up of? What do all expressions do?\n",
    "\n",
    "A- Expressions are operators used in mathematical calculations.\n",
    "+ for addition\n",
    "- for subtraction\n",
    "/ for division\n",
    "* for multiplication"
   ]
  },
  {
   "cell_type": "raw",
   "id": "2678005d",
   "metadata": {},
   "source": [
    "5. This assignment statements, like spam = 10. What is the difference between an\n",
    "expression and a statement?\n",
    "\n",
    "A- Expressions are operators used in mathematical calculations.\n",
    "   Statement is a line of code in which expressions,values and variables are used."
   ]
  },
  {
   "cell_type": "raw",
   "id": "8eed2ac0",
   "metadata": {},
   "source": [
    "6. After running the following code, what does the variable bacon contain?\n",
    "bacon = 22\n",
    "bacon + 1\n",
    "\n",
    "A- bacon contains the value 23"
   ]
  },
  {
   "cell_type": "raw",
   "id": "2ff8f4ea",
   "metadata": {},
   "source": [
    "7. What should the values of the following two terms be?\n",
    "'spam' + 'spamspam' \n",
    "'spam' * 3\n",
    "\n",
    "A- Both return the same value 'spamspamspam'   "
   ]
  },
  {
   "cell_type": "raw",
   "id": "6fbbae62",
   "metadata": {},
   "source": [
    "8. Why is eggs a valid variable name while 100 is invalid?\n",
    "\n",
    "A- eggs is in text and 100 is in numeric data type.\n",
    "   Numeric data type is not allowed as variable name."
   ]
  },
  {
   "cell_type": "raw",
   "id": "ce5f790b",
   "metadata": {},
   "source": [
    "9. What three functions can be used to get the integer, floating-point number, or string\n",
    "version of a value?\n",
    "\n",
    "A- type(variable name) function can be used."
   ]
  },
  {
   "cell_type": "raw",
   "id": "43f6c9ab",
   "metadata": {},
   "source": [
    "10. Why does this expression cause an error? How can you fix it?\n",
    "'I have eaten' + 99 + 'burritos.'\n",
    "\n",
    "A- Error is caused because integer type cannot be concatenated to string.\n",
    "   It can be replaced with 'I have eaten' + ' 99 ' + 'burritos.'"
   ]
  }
 ],
 "metadata": {
  "kernelspec": {
   "display_name": "Python 3 (ipykernel)",
   "language": "python",
   "name": "python3"
  },
  "language_info": {
   "codemirror_mode": {
    "name": "ipython",
    "version": 3
   },
   "file_extension": ".py",
   "mimetype": "text/x-python",
   "name": "python",
   "nbconvert_exporter": "python",
   "pygments_lexer": "ipython3",
   "version": "3.9.7"
  }
 },
 "nbformat": 4,
 "nbformat_minor": 5
}
