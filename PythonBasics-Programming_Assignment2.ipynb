{
 "cells": [
  {
   "cell_type": "code",
   "execution_count": 1,
   "id": "25b071c5",
   "metadata": {},
   "outputs": [],
   "source": [
    "# 1.Write a Python program to convert kilometers to miles?"
   ]
  },
  {
   "cell_type": "code",
   "execution_count": 2,
   "id": "1af427ab",
   "metadata": {},
   "outputs": [
    {
     "name": "stdout",
     "output_type": "stream",
     "text": [
      "Convert km to miles\n",
      "Enter km 20\n",
      "12.4 Miles\n"
     ]
    }
   ],
   "source": [
    "print(\"Convert km to miles\")\n",
    "a= float(input(\"Enter km \"))\n",
    "b=a*0.62\n",
    "print(b,\"Miles\")"
   ]
  },
  {
   "cell_type": "code",
   "execution_count": 3,
   "id": "7afe84c7",
   "metadata": {},
   "outputs": [],
   "source": [
    "# 2.Write a Python program to convert Celsius to Fahrenheit?"
   ]
  },
  {
   "cell_type": "code",
   "execution_count": 4,
   "id": "7308bd93",
   "metadata": {},
   "outputs": [
    {
     "name": "stdout",
     "output_type": "stream",
     "text": [
      "Celcius to Fahrenheit\n",
      "Enter temperature in celcius 34\n",
      "93.2  Fahrenheit\n"
     ]
    }
   ],
   "source": [
    "print(\"Celcius to Fahrenheit\")\n",
    "c=float(input(\"Enter temperature in celcius \"))\n",
    "f=(c*1.8)+32\n",
    "print(f,\" Fahrenheit\")"
   ]
  },
  {
   "cell_type": "code",
   "execution_count": 5,
   "id": "1e73f32f",
   "metadata": {},
   "outputs": [],
   "source": [
    "# 3.Write a Python program to display calendar?"
   ]
  },
  {
   "cell_type": "code",
   "execution_count": 6,
   "id": "68b65533",
   "metadata": {},
   "outputs": [
    {
     "name": "stdout",
     "output_type": "stream",
     "text": [
      "      May 2022\n",
      "Mo Tu We Th Fr Sa Su\n",
      "                   1\n",
      " 2  3  4  5  6  7  8\n",
      " 9 10 11 12 13 14 15\n",
      "16 17 18 19 20 21 22\n",
      "23 24 25 26 27 28 29\n",
      "30 31\n",
      "\n"
     ]
    }
   ],
   "source": [
    "import calendar\n",
    "month = calendar.month(2022,5)\n",
    "print(month)"
   ]
  },
  {
   "cell_type": "code",
   "execution_count": 7,
   "id": "ed6dc2f0",
   "metadata": {},
   "outputs": [],
   "source": [
    "# 4.Write a Python program to solve quadratic equation?"
   ]
  },
  {
   "cell_type": "code",
   "execution_count": 8,
   "id": "83148ca4",
   "metadata": {},
   "outputs": [
    {
     "name": "stdout",
     "output_type": "stream",
     "text": [
      "solution is  (-3+0j) and  (-2+0j)\n"
     ]
    }
   ],
   "source": [
    "import cmath\n",
    "a = 1\n",
    "b = 5\n",
    "c = 6\n",
    "d = (b**2) - (4*a*c)\n",
    "s1 = (-b-cmath.sqrt(d))/(2*a)\n",
    "s2 = (-b+cmath.sqrt(d))/(2*a)\n",
    "print(\"solution is \",s1,\"and \",s2)"
   ]
  },
  {
   "cell_type": "code",
   "execution_count": 9,
   "id": "39d87ad2",
   "metadata": {},
   "outputs": [],
   "source": [
    "# 5.Write a Python program to swap two variables without temp variable?"
   ]
  },
  {
   "cell_type": "code",
   "execution_count": 10,
   "id": "348f2a35",
   "metadata": {},
   "outputs": [
    {
     "name": "stdout",
     "output_type": "stream",
     "text": [
      "variables before swapping a=4 and b= 6\n",
      "variables after swapping a=6 and b= 4\n"
     ]
    }
   ],
   "source": [
    "a=4\n",
    "b=6\n",
    "print(\"variables before swapping a={} and b= {}\".format(a,b))\n",
    "a=a+b\n",
    "b=a-b\n",
    "a=a-b\n",
    "print(\"variables after swapping a={} and b= {}\".format(a,b))"
   ]
  }
 ],
 "metadata": {
  "kernelspec": {
   "display_name": "Python 3 (ipykernel)",
   "language": "python",
   "name": "python3"
  },
  "language_info": {
   "codemirror_mode": {
    "name": "ipython",
    "version": 3
   },
   "file_extension": ".py",
   "mimetype": "text/x-python",
   "name": "python",
   "nbconvert_exporter": "python",
   "pygments_lexer": "ipython3",
   "version": "3.9.7"
  }
 },
 "nbformat": 4,
 "nbformat_minor": 5
}
